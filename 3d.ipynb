{
 "cells": [
  {
   "cell_type": "code",
   "execution_count": 1,
   "metadata": {},
   "outputs": [],
   "source": [
    "import numpy as np\n",
    "import matplotlib.pyplot as plt\n",
    "from matplotlib import patches\n",
    "from mpl_toolkits.mplot3d import Axes3D\n",
    "from matplotlib import cm\n",
    "from matplotlib.ticker import LinearLocator, FormatStrFormatter\n",
    "from matplotlib.figure import Figure\n",
    "from matplotlib import rcParams"
   ]
  },
  {
   "cell_type": "code",
   "execution_count": 2,
   "metadata": {},
   "outputs": [],
   "source": [
    "def dBofHz(inputHz):\n",
    "    \n",
    "    outValue = 20*np.log10( inputHz )\n",
    "    print(outValue, \" dB\")\n",
    "    return outValue"
   ]
  },
  {
   "cell_type": "markdown",
   "metadata": {},
   "source": [
    "ova funkcija stampa u konzoli vrednost Z ose u decibelima"
   ]
  },
  {
   "cell_type": "code",
   "execution_count": 3,
   "metadata": {},
   "outputs": [],
   "source": [
    "def calculateForZ(Coefficient_Array = [-0.2,0.3,0.1],Z_Input = 0.3-0.3j):\n",
    "    \n",
    "    summR = 0\n",
    "    summI = 0\n",
    "    for index in range(len(Coefficient_Array)):\n",
    "        #print(\"x[n] \", Coefficient_Array[index])\n",
    "        z_n_value = pow(Z_Input,-index)\n",
    "        print(\"z^-n = \", z_n_value)\n",
    "        print(\"np.real(Coefficient_Array[index] * z_n_value \", np.real(Coefficient_Array[index] * z_n_value))\n",
    "        print(\"np.imag(Coefficient_Array[index] * z_n_value \", np.imag(Coefficient_Array[index] * z_n_value))\n",
    "        summR += np.real(Coefficient_Array[index] * z_n_value)\n",
    "        summI += np.imag(Coefficient_Array[index] * z_n_value)\n",
    "    print(\"summR \", summR)\n",
    "    print(\"summI \", summI)\n",
    "    H_z = np.sqrt((summR**2) + (summI**2))\n",
    "    #print(H_z, \" H_z\")\n",
    "    return H_z"
   ]
  },
  {
   "cell_type": "markdown",
   "metadata": {},
   "source": [
    "funkcija calculateForZ stampa procenu x[n] za specificnu vrednost z. Odredjujemo realan i imaginaran deo, njihovu sumu, a zatim i moduo."
   ]
  },
  {
   "cell_type": "code",
   "execution_count": null,
   "metadata": {},
   "outputs": [],
   "source": [
    "def zplot(x=[-0.2,0.3,0.1]):\n",
    "   \n",
    "    radiusArray = np.linspace(0, 1, 50)\n",
    "    freqArray = np.linspace(0, 2*np.pi,120)\n",
    "\n",
    "    magnitudeArrayMesh, phaseangleArrayMesh = np.meshgrid(radiusArray, freqArray)\n",
    "    #print(\"radiusArrayMesh \", radiusArrayMesh)\n",
    "    #print(\"freqArrayMesh \", freqArrayMesh)\n",
    "    coordinateX = magnitudeArrayMesh * np.cos(phaseangleArrayMesh)\n",
    "    coordinateY = magnitudeArrayMesh * np.sin(phaseangleArrayMesh)\n",
    "    #print(\"coordinateX \", coordinateX)\n",
    "    #print(\"coordinateY \", coordinateY)\n",
    "\n",
    "    Z = magnitudeArrayMesh*(np.e**(1j*phaseangleArrayMesh))\n",
    "    #print(\"Z \", Z)\n",
    "    H_z = 0 + 0j\n",
    "    for index in range(len(x)):\n",
    "        H_z += x[index] * (Z**-index)\n",
    "    #print(\"H_z \", H_z)\n",
    "    H_z_real = np.real(H_z)\n",
    "    H_z_imag = np.imag(H_z)\n",
    "    #print(\"H_z_real \", H_z_real)\n",
    "    #print(\"H_z_imag \", H_z_imag)\n",
    "    FreqZ = []\n",
    "    Z_dB = 20*np.log10(np.sqrt((H_z_real**2) + (H_z_imag**2)))\n",
    "    for row in Z_dB:\n",
    "        FreqZ.append(row[len(row)-1])\n",
    "    #print(\"Z_dB \", Z_dB)"
   ]
  },
  {
   "cell_type": "markdown",
   "metadata": {},
   "source": [
    "zplot funkcija plotuje kompleksnu z-ravan na osnovu impulsnog odziva FIR filtra.\n",
    "Zatim se pravi mreza u polarnim koordinatama i izracunava odgovarajuce Z.\n",
    "linspace vraca ravnomerno rasporedjene uzorke tokom odredjenog intervala"
   ]
  },
  {
   "cell_type": "code",
   "execution_count": null,
   "metadata": {},
   "outputs": [],
   "source": [
    "    fig = plt.figure(figsize=(16, 10))\n",
    "    ax = fig.add_subplot(111, projection='3d')\n",
    "    surf = ax.plot_surface(coordinateX, coordinateY, Z_dB, rstride=1, cstride=1, alpha=0.8, cmap='brg', vmin=-24., vmax=24.)\n",
    "    \n",
    "    fig.colorbar(surf, shrink=0.5, aspect=10)\n",
    "   \n",
    "    ax.view_init(45, -120)\n",
    "    ax.set_zlim(-36, 36)\n",
    "    ax.set_ylim([-1, 1])\n",
    "    ax.set_xlim([-1, 1])\n",
    "    ax.zaxis.set_major_locator(LinearLocator(9))\n",
    "    ax.zaxis.set_major_formatter(FormatStrFormatter('%.02f'))\n",
    "    ax.set_xlabel(\"Real\")\n",
    "    ax.set_ylabel(\"Imaginary\")\n",
    "    ax.set_zlabel(\"Magnitude [dB]\")\n",
    "    plt.savefig('ZSurfaceSide.png')"
   ]
  },
  {
   "cell_type": "markdown",
   "metadata": {},
   "source": [
    "Plotujemo 3D povrsinu. fig.colorbar - dodajemo traku boja (color bar) koja mapira vrednosti sa bojama. Zatim prilagodjavamo z osu. ax.set_zlim, ax.set_ylim i ax.set_xlim su funkcije za ogranicenje prikaza x,y i z ose. Na kraju imenujemo ose pomocu set_x/y/zlabel funkcije."
   ]
  },
  {
   "cell_type": "code",
   "execution_count": null,
   "metadata": {},
   "outputs": [],
   "source": [
    "    # Plotovanje 3D povrsine\n",
    "    fig = plt.figure(figsize=(16, 10))\n",
    "    ax = fig.add_subplot(111, projection='3d')\n",
    "    surf = ax.plot_surface(coordinateX, coordinateY, Z_dB, rstride=1, cstride=1, alpha=0.8, cmap='brg', vmin=-24., vmax=24.)\n",
    "    # Dodavanje trake boja koja mapira vrednsoti sa bojama\n",
    "    fig.colorbar(surf, shrink=0.5, aspect=10)\n",
    "    # Prilagodjavanje z osa\n",
    "    ax.view_init(90, -90)\n",
    "    ax.set_zlim(-36, 36)\n",
    "    ax.set_ylim([-1, 1])\n",
    "    ax.set_xlim([-1, 1])\n",
    "    ax.zaxis.set_major_locator(LinearLocator(9))\n",
    "    ax.zaxis.set_major_formatter(FormatStrFormatter('%.02f'))\n",
    "    ax.set_xlabel(\"Real\")\n",
    "    ax.set_ylabel(\"Imaginary\")\n",
    "    ax.set_zlabel(\"Magnitude [dB]\")\n",
    "    plt.savefig('ZSurfaceTop.png')\n",
    "    plt.show()"
   ]
  },
  {
   "cell_type": "markdown",
   "metadata": {},
   "source": [
    "Opet iscrtavamo 3D povrsinu, samo gledano odozgo"
   ]
  },
  {
   "cell_type": "code",
   "execution_count": null,
   "metadata": {},
   "outputs": [],
   "source": [
    "    fig, ax1 = plt.subplots()\n",
    "    ax1.set_title('Digital filter frequency response')\n",
    "    ax1.plot(freqArray,FreqZ, 'b')\n",
    "    ax1.set_ylabel('Amplitude [dB]')\n",
    "    ax1.set_ylim([-24, 12])\n",
    "    ax1.set_xlabel('Frequency [rad/sample]')\n",
    "    ax1.set_xlim([0, (np.pi)])\n",
    "    plt.savefig('ZFreq.png')\n",
    "    plt.grid()\n",
    "    plt.show()\n",
    "\n",
    "    return"
   ]
  },
  {
   "cell_type": "markdown",
   "metadata": {},
   "source": [
    "Iscrtavamo frekvencijski odziv."
   ]
  },
  {
   "cell_type": "code",
   "execution_count": null,
   "metadata": {},
   "outputs": [],
   "source": [
    "x=[-0.2,0.3,0.1]\n",
    "zplot(x=x)\n",
    "v = calculateForZ()\n",
    "dBofHz(v)"
   ]
  }
 ],
 "metadata": {
  "kernelspec": {
   "display_name": "Python 3",
   "language": "python",
   "name": "python3"
  },
  "language_info": {
   "codemirror_mode": {
    "name": "ipython",
    "version": 3
   },
   "file_extension": ".py",
   "mimetype": "text/x-python",
   "name": "python",
   "nbconvert_exporter": "python",
   "pygments_lexer": "ipython3",
   "version": "3.7.4"
  }
 },
 "nbformat": 4,
 "nbformat_minor": 2
}
